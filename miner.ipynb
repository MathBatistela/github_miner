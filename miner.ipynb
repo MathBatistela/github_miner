{
 "cells": [
  {
   "cell_type": "code",
   "execution_count": 6,
   "metadata": {},
   "outputs": [],
   "source": [
    "import config\n",
    "from sgqlc.operation import Operation\n",
    "from github_schema import github_schema\n",
    "from sgqlc.endpoint.http import HTTPEndpoint\n",
    "\n",
    "headers = {\"Authorization\": f\"bearer {config.GITHUB_API_TOKEN}\"}\n",
    "endpoint = HTTPEndpoint(config.GITHUB_API_URL, headers)\n",
    "\n",
    "pr_json_list = []\n",
    "\n",
    "after_cursor = None\n",
    "while True:\n",
    "    query = Operation(github_schema.Query)\n",
    "    pull_requests = query.repository(owner=\"vuejs\", name=\"vue\").pull_requests(first=100, after=after_cursor)\n",
    "\n",
    "    pull_requests.nodes().id()\n",
    "    pull_requests.nodes().number()\n",
    "    pull_requests.nodes().title()\n",
    "    pull_requests.nodes().repository().name()\n",
    "    pull_requests.nodes().url()\n",
    "    pull_requests.nodes().author().login()\n",
    "    pull_requests.nodes().state()\n",
    "    pull_requests.nodes().changed_files()\n",
    "    pull_requests.nodes().body_text()\n",
    "    pull_requests.nodes().commits(first=100).nodes().commit().message()\n",
    "    pull_requests.nodes().closed()\n",
    "    pull_requests.nodes().merged()\n",
    "    pull_requests.nodes().merged_at()\n",
    "    pull_requests.nodes().created_at()\n",
    "    pull_requests.nodes().closed_at()\n",
    "\n",
    "    pull_requests.page_info.__fields__(end_cursor=True, has_next_page=True)\n",
    "\n",
    "    data = endpoint(query)\n",
    "\n",
    "    repo = (query + data).repository\n",
    "\n",
    "    for pr in repo.pull_requests.nodes:\n",
    "        pr: github_schema.PullRequest\n",
    "        if pr.state == 'MERGED':\n",
    "            pr_json_list.append(pr.__to_json_value__())\n",
    "\n",
    "    if not repo.pull_requests.page_info.has_next_page:\n",
    "        break\n",
    "\n",
    "    after_cursor = repo.pull_requests.page_info.end_cursor"
   ]
  },
  {
   "cell_type": "code",
   "execution_count": null,
   "metadata": {},
   "outputs": [],
   "source": [
    "import pandas as pd\n",
    "df = pd.DataFrame.from_records(pr_json_list)\n",
    "\n",
    "def get_login(login_dict):\n",
    "    try:\n",
    "        return login_dict[\"login\"]\n",
    "    except:\n",
    "        return None\n",
    "\n",
    "df[\"author\"] = df[\"author\"].apply(lambda item: get_login(item))\n",
    "df[\"repository\"] = df[\"repository\"].apply(lambda item: item[\"name\"])\n",
    "df[\"commits\"] = df[\"commits\"].apply(lambda item: [commit[\"commit\"][\"message\"] for commit in item[\"nodes\"]])\n",
    "\n",
    "for index, row in df.groupby([\"author\"]).size().reset_index(name='counts').iterrows():\n",
    "    if row[\"counts\"] >= 10:\n",
    "        print(row[\"author\"])\n",
    "\n",
    "\n",
    "\n",
    "df"
   ]
  },
  {
   "cell_type": "code",
   "execution_count": null,
   "metadata": {},
   "outputs": [],
   "source": [
    "df.loc[df['author'] == \"Hanks10100\"]"
   ]
  },
  {
   "cell_type": "code",
   "execution_count": 29,
   "metadata": {},
   "outputs": [
    {
     "name": "stdout",
     "output_type": "stream",
     "text": [
      "['be able to parse the real tag name for the specific platform']\n",
      "['[weex] expose version and config on subVue']\n",
      "['[weex] fix the text node could not be removed properly']\n",
      "['[weex] fix the removeChild logic for text node']\n",
      "['[weex] use weex.requireModule instead of weex.require', '[weex] fix the deprecated __weex_require_module__']\n",
      "['Support to delete array item in Vue.delete', 'add test case for Vue.delete array', 'add blank line between test cases']\n",
      "['[weex] add test case for camelize props', \"Merge branch 'dev' into camelcase\", '[weex] add test case for append props', '[weex] camelize component attribute name', \"Merge branch 'append-tree' into release\", '[weex] more reliable camelize functions']\n",
      "['[weex] Support unary and left open tags', '[weex] add test case for unary tag', '[compiler] move canBeLeftOpenTag to compiler option']\n",
      "[\"compile bundle on native side if 'compileBundle()' is available on\\nnative side.\", \"Merge pull request #1 from brunoduan/android-feature-20170321\\n\\ncompile bundle on native side if 'compileBundle()' is available on native side\", 'refactor sendTasks', \"Merge branch 'weex-0.12-dev' of https://github.com/fkysly/vue into weex-0.12-dev\", 'reset renderer.compileBundle', 'v2.2.2-weex.1', 'v2.2.2-weex.2 && fixed memory leak', 'call C++ timer instead of WxTimerModule in weex-vue-framwork', 'Merge pull request #2 from lycool/weex-0.12-dev\\n\\ncall C++ timer instead of WxTimerModule in weex-vue-framwork', 'v2.2.2-weex.4', 'v2.2.2-weex.5', 'v2.2.6-weex.1', 'merge from tag v2.3.3 and fix conflicts', \"Merge branch 'dev' into weex-0.15-dev\", 'style(weex): fix eslint', 'test(weex): fix test case for weex callback manager']\n",
      "['feat(weex): add \"weex.supports\" api for feature detection', 'test(weex): add test case for weex.supports and related methods']\n",
      "['build(release weex): ignore the file path of entries', '[release] weex-vue-framework@2.4.2-weex.1']\n",
      "['feat(weex): add basic support of richtext', 'test(weex): add test cases for richtext component', 'feat(weex): support nested components in richtext', 'feat(weex richtext): support to parse styles and classList', 'feat(weex richtext): support events and add more test cases', 'feat(weex richtext): treat richtext as runtime components', 'test(weex richtext): rename the file path of richtext test']\n",
      "['[release] weex-vue-framework@2.4.2-weex.1 (#6196)\\n\\n* build(release weex): ignore the file path of entries\\r\\n\\r\\n* [release] weex-vue-framework@2.4.2-weex.1', 'feat(weex): remove __weex_require_module__ api', 'feat(weex): wrap IFFE for appCode', 'feat(weex): return instance in createInstance']\n",
      "['trim trailing whitespace', 'revert(weex): remove the new Function hack for V8, as Weex uses JSC now\\n\\nRemove the `callFunctionNative` method and `compileBundle`, which is provided by modified V8. In\\norder to maintain the consistency of the js engine, Weex also use JSC on Android. The legacy hack\\nfor V8 engine should be removed.', 'refactor(weex): move module and component apis to weex runtime\\n\\nModules and components should be registered in weex runtime, not the specific framework. The\\n`registerModules`, `registerComponents`, `weex.supports` and `weex.requireModule` api is moved to\\nweex runtime, which is in the \"apache/incubator-weex\" repo.', 'test(weex): refactor the test cases to fit the new weex-js-runtime', 'fix(weex): use document instead of renderer to create Element', \"Merge branch 'dev' into weex-refactor\"]\n",
      "['feat($compiler): supports compiling v-bind to the weex native directive in recycle-list', 'feat(compile): supports compiling v-if to the weex native directive', 'feat($compiler): supports compiling v-for to the weex native directive', 'feat($compiler): compile weex native directives in preTransformNode', 'feat($compiler): supports compiling v-else-if and v-else to the weex native directive', 'feat($event): support binding parameters on event handler within weex recycle-list']\n",
      "['refactor(compiler): move postTransforms to after children are processed', 'feat(weex): recycle-list support WIP', 'refactor: fix types', 'feat(weex): split text into separate module', 'feat($compiler): supports compiling v-bind to the weex native directive in recycle-list', 'feat(compile): supports compiling v-if to the weex native directive', 'feat($compiler): supports compiling v-for to the weex native directive', 'feat($compiler): compile weex native directives in preTransformNode', 'feat($compiler): supports compiling v-else-if and v-else to the weex native directive', 'feat($event): support binding parameters on event handler within weex recycle-list', 'refactor: mark weex-specific block', 'feat(wip): recycle list template inline expand', 'build: add weex factory dev script', 'feat($compiler): support to compile \"v-on\" into weex native directive', 'feat($compiler): adjust handler params to fit the weex native renderer\\n\\n+ Filter the non-expression params and the `$event`.\\n+ Use `$event` as the last argument of handler.', \"Merge branch 'weex-native-directive' into weex-native-directive\"]\n",
      "['fix(weex): stop trim css units in richtext component\\n\\n+ Remove the `trimCSSUnit` method.\\n+ Modify the test cases to support css units.\\n+ Add flow type annotations.']\n",
      "['test(weex): support to test the virtual dom generated form *.vue file\\n\\nCompile the *.vue file into js code, then run it in Weex context, and\\ncompare the generate virtual dom.\\nIt’s a black-box testing for `weex-template-compiler`,\\n`weex-styler`,`weex-vue-framework` and `weex-js-runtime`.']\n",
      "['feat($compiler): support to generate @render function for weex recycle-list\\n\\nCompile the template twice with different options for weex platform if\\nthe “recyclable” flag is passed. Generate both normal render function\\nand “@render” function for recycle-list.\\n\\nAdjust function names and arguments in recycle-list compiler.', 'test(weex): add test cases for <recycle-list>']\n",
      "['fix(weex): donot rethrow the captured error on weex platform']\n",
      "['feat(weex): support batch update styles', 'feat(weex): support batch update attributes']\n",
      "['revert(weex): remove the \"receiveTasks\" api and support component hook']\n",
      "['test(weex): add more test cases for recycle-list']\n",
      "['style(weex): update weex utils\\n\\nAdd flow type annotations. Add the \"registerComponentHook\" and the \"updateComponentData\" api.']\n",
      "['fix(weex): send createFinish signal after root component mounted']\n",
      "['test(weex): add more component test cases for recycle-list', 'feat(weex): WIP implement virtual component']\n",
      "['fix(weex): append as tree by default for recycle-list and cell-slot']\n",
      "['feat(weex): partially support lifecycles of virtual component\\n\\nUpdate the `_init` and `_update` logic to partially support lifecycles.\\nAdd test cases for testing the lifecycle hooks and data update.']\n",
      "['feat(weex): adjust framework entry APIs and add flow annotations\\n\\n1. Remove the \"init\", \"reset\", \"getRoot\" and \"receiveTasks\" APIs, which\\nare already implemented in the new version of \"weex-js-runtime\".\\n2. Use \"createInstanceContext\" instead of \"createInstance\". Vue only\\nneeds to prepare the instance context and no longer execute the js\\ncode. The js code will be executed by native.\\n3. Add flow type declarations and annotations.']\n",
      "['feat(weex): support parse object literal in binding attrs and styles']\n",
      "['chore: update weex flow type annotations']\n",
      "['Fix the env detection of server side rendering\\n\\nIn Weex, `global` is exist, but `global.process` is not.']\n",
      "[' feat(weex): support sending style sheets and class list to native\\n\\nNo longer manage style sheets and class list in vue and weex-js-runtime.\\n\\nRefer to https://github.com/Hanks10100/weex-native-directive/issues/14']\n",
      "['fix(compiler): update weex recycle-list compiler\\n\\n+ Support v-once\\n+ Generate @templateId on the root element of each component\\n+ Add binding-expression attribute on recycle-list\\n+ Fix the compile result of v-else-if and v-else', \"Merge branch 'dev' into weex-recycle-list-compiler\"]\n"
     ]
    }
   ],
   "source": [
    "for index, row in df.loc[df['author'] == \"Hanks10100\"].iterrows():\n",
    "    print(row[\"commits\"])"
   ]
  }
 ],
 "metadata": {
  "interpreter": {
   "hash": "d674aba619e9128d5d95f68874c090de0e48b8e67c1ba838c5d294b8a6cf0663"
  },
  "kernelspec": {
   "display_name": "Python 3.9.7 ('base')",
   "language": "python",
   "name": "python3"
  },
  "language_info": {
   "codemirror_mode": {
    "name": "ipython",
    "version": 3
   },
   "file_extension": ".py",
   "mimetype": "text/x-python",
   "name": "python",
   "nbconvert_exporter": "python",
   "pygments_lexer": "ipython3",
   "version": "3.9.7"
  },
  "orig_nbformat": 4
 },
 "nbformat": 4,
 "nbformat_minor": 2
}
